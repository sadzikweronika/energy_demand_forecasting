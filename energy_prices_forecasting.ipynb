{
 "cells": [
  {
   "cell_type": "markdown",
   "id": "1ec8db4d-6b0a-423c-8306-ad07e8270ad4",
   "metadata": {},
   "source": [
    "**Goal**: create a forecast of Madrid's electric prices"
   ]
  },
  {
   "cell_type": "code",
   "execution_count": 1,
   "id": "70dfb8d0-697d-4a7e-9839-477afac44e60",
   "metadata": {},
   "outputs": [],
   "source": [
    "import pandas as pd"
   ]
  },
  {
   "cell_type": "code",
   "execution_count": 33,
   "id": "9b06583d-5526-4b35-bc88-d5eeae8c0450",
   "metadata": {},
   "outputs": [],
   "source": [
    "energy_data = pd.read_csv('energy_dataset.csv')\n",
    "weather_data = pd.read_csv('weather_features.csv')"
   ]
  },
  {
   "cell_type": "code",
   "execution_count": 34,
   "id": "0684b043-d5ae-418b-81cb-51b8f9f7235b",
   "metadata": {},
   "outputs": [],
   "source": [
    "energy_data.time = energy_data.time.str[:-7]\n",
    "energy_data.time = pd.to_datetime(energy_data.time)\n",
    "energy_data = energy_data.set_index('time')"
   ]
  },
  {
   "cell_type": "code",
   "execution_count": 35,
   "id": "9b97e2db-82a1-476c-96fd-d4a4c3183e5f",
   "metadata": {},
   "outputs": [],
   "source": [
    "weather_data = weather_data[weather_data.city_name == 'Madrid']\n",
    "weather_data.dt_iso = weather_data.dt_iso.str[:-7]\n",
    "weather_data.dt_iso = pd.to_datetime(weather_data.dt_iso)\n",
    "weather_data = weather_data.set_index('dt_iso')\n",
    "weather_data = weather_data.drop(columns='city_name')"
   ]
  },
  {
   "cell_type": "code",
   "execution_count": 38,
   "id": "5e1a6013-9ed3-4c53-9639-ee6ab6573b37",
   "metadata": {},
   "outputs": [],
   "source": [
    "data = pd.merge(energy_data, weather_data, left_index=True, right_index=True)"
   ]
  },
  {
   "cell_type": "code",
   "execution_count": 42,
   "id": "5bbb5c3d-f0f8-475a-8321-867080184642",
   "metadata": {},
   "outputs": [
    {
     "data": {
      "text/plain": [
       "Index(['generation biomass', 'generation fossil brown coal/lignite',\n",
       "       'generation fossil coal-derived gas', 'generation fossil gas',\n",
       "       'generation fossil hard coal', 'generation fossil oil',\n",
       "       'generation fossil oil shale', 'generation fossil peat',\n",
       "       'generation geothermal', 'generation hydro pumped storage aggregated',\n",
       "       'generation hydro pumped storage consumption',\n",
       "       'generation hydro run-of-river and poundage',\n",
       "       'generation hydro water reservoir', 'generation marine',\n",
       "       'generation nuclear', 'generation other', 'generation other renewable',\n",
       "       'generation solar', 'generation waste', 'generation wind offshore',\n",
       "       'generation wind onshore', 'forecast solar day ahead',\n",
       "       'forecast wind offshore eday ahead', 'forecast wind onshore day ahead',\n",
       "       'total load forecast', 'total load actual', 'price day ahead',\n",
       "       'price actual', 'temp', 'temp_min', 'temp_max', 'pressure', 'humidity',\n",
       "       'wind_speed', 'wind_deg', 'rain_1h', 'rain_3h', 'snow_3h', 'clouds_all',\n",
       "       'weather_id', 'weather_main', 'weather_description', 'weather_icon'],\n",
       "      dtype='object')"
      ]
     },
     "execution_count": 42,
     "metadata": {},
     "output_type": "execute_result"
    }
   ],
   "source": [
    "data.columns"
   ]
  },
  {
   "cell_type": "code",
   "execution_count": null,
   "id": "b6ef20ae-1b31-4322-9674-ed73adee470a",
   "metadata": {},
   "outputs": [],
   "source": []
  }
 ],
 "metadata": {
  "kernelspec": {
   "display_name": "Python 3 (ipykernel)",
   "language": "python",
   "name": "python3"
  },
  "language_info": {
   "codemirror_mode": {
    "name": "ipython",
    "version": 3
   },
   "file_extension": ".py",
   "mimetype": "text/x-python",
   "name": "python",
   "nbconvert_exporter": "python",
   "pygments_lexer": "ipython3",
   "version": "3.9.13"
  }
 },
 "nbformat": 4,
 "nbformat_minor": 5
}
